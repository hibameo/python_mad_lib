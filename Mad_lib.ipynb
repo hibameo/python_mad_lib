{
  "nbformat": 4,
  "nbformat_minor": 0,
  "metadata": {
    "colab": {
      "provenance": [],
      "authorship_tag": "ABX9TyNxPFC+qyKyy5e7pC7lRh6L",
      "include_colab_link": true
    },
    "kernelspec": {
      "name": "python3",
      "display_name": "Python 3"
    },
    "language_info": {
      "name": "python"
    }
  },
  "cells": [
    {
      "cell_type": "markdown",
      "metadata": {
        "id": "view-in-github",
        "colab_type": "text"
      },
      "source": [
        "<a href=\"https://colab.research.google.com/github/hibameo/python_mad_lib/blob/main/Mad_lib.ipynb\" target=\"_parent\"><img src=\"https://colab.research.google.com/assets/colab-badge.svg\" alt=\"Open In Colab\"/></a>"
      ]
    },
    {
      "cell_type": "code",
      "execution_count": null,
      "metadata": {
        "colab": {
          "base_uri": "https://localhost:8080/"
        },
        "id": "4TAUkOcepHDO",
        "outputId": "e6b34bdd-e5ef-444a-cd06-ddf6145acc9a"
      },
      "outputs": [
        {
          "output_type": "stream",
          "name": "stdout",
          "text": [
            "Welcome to the Mad Libs Game!\n",
            "Fill in the blanks to create your own funny story.\n",
            "\n"
          ]
        }
      ],
      "source": [
        "\n",
        "# Mad Libs Game in Python\n",
        "\n",
        "def mad_libs():\n",
        "    print(\"Welcome to the Mad Libs Game!\")\n",
        "    print(\"Fill in the blanks to create your own funny story.\\n\")\n",
        "\n",
        "    # Asking for user inputs\n",
        "    name = input(\"Enter a name: \")\n",
        "    place = input(\"Enter a place: \")\n",
        "    adjective = input(\"Enter an adjective: \")\n",
        "    animal = input(\"Enter an animal: \")\n",
        "    verb = input(\"Enter a verb ending in -ing: \")\n",
        "    noun = input(\"Enter a noun: \")\n",
        "    emotion = input(\"Enter an emotion: \")\n",
        "\n",
        "    # The Mad Libs story\n",
        "    story = f\"\"\"\n",
        "    Once upon a time, there was a person named {name} who lived in {place}.\n",
        "    {name} was very {adjective} and loved spending time with a {animal}.\n",
        "    One day, while {verb} in the park, {name} found a magical {noun}.\n",
        "    This made {name} feel very {emotion}, and they knew their life would never be the same again!\n",
        "    \"\"\"\n",
        "\n",
        "    print(\"\\nHere's your Mad Libs story:\")\n",
        "    print(story)\n",
        "\n",
        "# Run the game\n",
        "mad_libs()\n",
        "\n",
        ""
      ]
    }
  ]
}